{
 "cells": [
  {
   "cell_type": "code",
   "execution_count": 1,
   "metadata": {},
   "outputs": [],
   "source": [
    "import sys\n",
    "sys.path.append('/Library/Frameworks/Python.framework/Versions/3.6/lib/python3.6/site-packages')\n",
    "from Connect4Game import C4Game\n",
    "from C4_net import NNetWrapper as nn\n",
    "from utils import *\n",
    "import numpy as np\n",
    "import matplotlib.pyplot as plt\n",
    "from mcts_c4 import MCTS\n",
    "from AZ_C4 import AlphaZero\n",
    "import time"
   ]
  },
  {
   "cell_type": "code",
   "execution_count": 2,
   "metadata": {},
   "outputs": [],
   "source": [
    "args = dotdict({\n",
    "    'numIters': 2,\n",
    "    'numEps': 2,              # Number of complete self-play games to simulate during a new iteration.\n",
    "    'tempThreshold': 15,        #\n",
    "    'updateThreshold': 0.5,     # During arena playoff, new neural net will be accepted if threshold or more of games are won.\n",
    "    'maxlenOfQueue': 200,    # Number of game examples to train the neural networks.\n",
    "    'numMCTSSims': 2,          # Number of games moves for MCTS to simulate.\n",
    "    'arenaCompare': 10,         # Number of games to play during arena play to determine if new net will be accepted.\n",
    "    'cpuct': 1,\n",
    "    'batch_size' : 20,\n",
    "    'elite_size' : 10,\n",
    "\n",
    "    'checkpoint': './temp/',\n",
    "    'load_model': False,\n",
    "    'load_folder_file': ('/dev/models/8x100x50','best.pth.tar'),\n",
    "    'numItersForTrainExamplesHistory': 20,\n",
    "\n",
    "})"
   ]
  },
  {
   "cell_type": "code",
   "execution_count": 3,
   "metadata": {},
   "outputs": [],
   "source": [
    "g = C4Game()\n",
    "\n",
    "nnet_grad = nn(g)\n",
    "mcts_grad = MCTS(g, nnet_grad, args)\n",
    "AZ_grad = AlphaZero(g, nnet_grad, mcts_grad, args)\n",
    "\n",
    "nnet_es = nn(g)\n",
    "mcts_es = MCTS(g, nnet_es, args)\n",
    "AZ_es = AlphaZero(g, nnet_es, mcts_es, args)\n",
    "\n",
    "mcts_untrained = MCTS(g, nn(g), args)"
   ]
  },
  {
   "cell_type": "code",
   "execution_count": 4,
   "metadata": {},
   "outputs": [],
   "source": [
    "b = g.getInitBoard()\n",
    "for k in range(3):\n",
    "    b, _ = g.getNextState(b, 1, 1)\n",
    "    \n",
    "    "
   ]
  },
  {
   "cell_type": "code",
   "execution_count": 10,
   "metadata": {},
   "outputs": [
    {
     "name": "stdout",
     "output_type": "stream",
     "text": [
      "(array([0.14367622, 0.14303078, 0.1424532 , 0.14157675, 0.1438277 ,\n",
      "       0.1415706 , 0.14386474], dtype=float32), array([-0.00490259], dtype=float32))\n",
      "(array([0.14285715, 0.14285715, 0.14285715, 0.14285715, 0.14285715,\n",
      "       0.14285715, 0.14285715], dtype=float32), array([0.13712771], dtype=float32))\n",
      "Starting first iteration\n",
      "Finished iteration 1 of 2\n",
      "Previous iteration took 0.48 seconds. Average iteration time is 0.48 seconds.\n",
      "Finished iteration 2 of 2\n",
      "Previous iteration took 0.54 seconds. Average iteration time is 0.51 seconds.\n",
      "Done in 1.0 seconds.\n",
      "Starting first iteration\n",
      "Finished iteration 1 of 2\n",
      "Previous iteration took 1.13 seconds. Average iteration time is 1.13 seconds.\n",
      "Finished iteration 2 of 2\n",
      "Previous iteration took 0.88 seconds. Average iteration time is 1.0 seconds.\n",
      "Done in 2.0 seconds.\n",
      "(array([0.14285715, 0.14285715, 0.14285715, 0.14285715, 0.14285715,\n",
      "       0.14285715, 0.14285715], dtype=float32), array([0.13712771], dtype=float32))\n",
      "(array([0.14395793, 0.14327794, 0.14209723, 0.14121205, 0.14410451,\n",
      "       0.14119992, 0.14415044], dtype=float32), array([-0.00262587], dtype=float32))\n",
      "Checkpoint Directory exists! \n",
      "Checkpoint Directory exists! \n"
     ]
    }
   ],
   "source": [
    "print(nnet_grad.predict(g.getInitBoard()))\n",
    "print(nnet_es.predict(g.getInitBoard()))\n",
    "AZ_grad.train_session_grad(time_cap = 10)\n",
    "AZ_es.train_session_es(time_cap = 10)\n",
    "print(nnet_es.predict(g.getInitBoard()))\n",
    "print(nnet_grad.predict(g.getInitBoard()))\n",
    "\n",
    "\n",
    "\n",
    "nnet_grad.save_checkpoint(filename = 'nnet_grad_checkpoint.pth.tar')\n",
    "nnet_es.save_checkpoint(filename = 'nnet_es_checkpoint.pth.tar')\n",
    "\n",
    "\n",
    "nnet_grad.load_checkpoint(filename = 'nnet_grad_checkpoint.pth.tar')\n",
    "nnet_es.load_checkpoint(filename = 'nnet_es_checkpoint.pth.tar')\n"
   ]
  },
  {
   "cell_type": "code",
   "execution_count": 11,
   "metadata": {},
   "outputs": [],
   "source": [
    "def play_game(g, player1 = 0, player2 = 0, render = False, temp = 0):\n",
    "    board = g.getInitBoard()\n",
    "    player = 1\n",
    "    move_count = 0\n",
    "    while True:\n",
    "        canon = g.getCanonicalForm(board, player)\n",
    "        if player == 1:\n",
    "            agent = player1\n",
    "        if player == -1:\n",
    "            agent = player2\n",
    "            \n",
    "        if agent == 0:\n",
    "            probs = g.getValidMoves(board, player)\n",
    "            probs = probs/sum(probs)\n",
    "        else:    \n",
    "            probs = agent.getActionProb(canon, temp = temp)\n",
    "        \n",
    "        a = np.random.choice(len(probs), p = probs)\n",
    "        board, player = g.getNextState(board, player, a)\n",
    "        move_count+=1\n",
    "        if render:\n",
    "            print('Move {}: {} to {}'.format(move_count,-player, a))\n",
    "            print(board, '\\n\\n')\n",
    "        \n",
    "        r = g.getGameEnded(board, player)\n",
    "        if r != 0:\n",
    "            return r * player\n",
    "            \n",
    "        \n",
    "def play_games(g, total = 100, player1 = 0, player2 = 0, temp = 0):\n",
    "    wins = 0\n",
    "    start = time.time()\n",
    "    current = time.time()\n",
    "    for k in range(total):\n",
    "        w = play_game(g, player1 = player1, player2 = player2, render = False, temp = temp)\n",
    "        if w == 1:\n",
    "            wins += 1\n",
    "\n",
    "        if time.time() - current > 60:\n",
    "            current = time.time()\n",
    "            print('{} wins in {} games. {} seconds elapsed'.format(wins, k + 1, np.round(time.time() - start)))\n",
    "\n",
    "\n",
    "    print('Won {} games out of {}. Done in {} seconds'.format(wins, total, np.round(time.time() - start)))\n",
    "    return wins\n",
    "        "
   ]
  },
  {
   "cell_type": "code",
   "execution_count": 12,
   "metadata": {},
   "outputs": [
    {
     "name": "stdout",
     "output_type": "stream",
     "text": [
      "Won 2 games out of 2. Done in 0.0 seconds\n",
      "Won 1 games out of 2. Done in 0.0 seconds\n"
     ]
    },
    {
     "data": {
      "text/plain": [
       "1"
      ]
     },
     "execution_count": 12,
     "metadata": {},
     "output_type": "execute_result"
    }
   ],
   "source": [
    "play_games(g, total = 2, player1 = mcts_grad, player2 = mcts_es, temp = 0)\n",
    "play_games(g, total = 2, player1 = mcts_es, player2 = mcts_grad, temp = 0)"
   ]
  },
  {
   "cell_type": "code",
   "execution_count": 13,
   "metadata": {},
   "outputs": [
    {
     "name": "stdout",
     "output_type": "stream",
     "text": [
      "Won 2 games out of 2. Done in 0.0 seconds\n",
      "Won 2 games out of 2. Done in 0.0 seconds\n"
     ]
    },
    {
     "data": {
      "text/plain": [
       "2"
      ]
     },
     "execution_count": 13,
     "metadata": {},
     "output_type": "execute_result"
    }
   ],
   "source": [
    "play_games(g, total = 2, player1 = mcts_grad, player2 = 0)\n",
    "play_games(g, total = 2, player1 = mcts_es, player2 = 0)"
   ]
  },
  {
   "cell_type": "code",
   "execution_count": 14,
   "metadata": {},
   "outputs": [
    {
     "name": "stdout",
     "output_type": "stream",
     "text": [
      "Won 0 games out of 2. Done in 0.0 seconds\n",
      "Won 0 games out of 2. Done in 0.0 seconds\n"
     ]
    },
    {
     "data": {
      "text/plain": [
       "0"
      ]
     },
     "execution_count": 14,
     "metadata": {},
     "output_type": "execute_result"
    }
   ],
   "source": [
    "play_games(g, total = 2, player1 = mcts_grad, player2 = mcts_untrained)\n",
    "play_games(g, total = 2, player1 = mcts_es, player2 = mcts_untrained)\n"
   ]
  },
  {
   "cell_type": "code",
   "execution_count": null,
   "metadata": {},
   "outputs": [],
   "source": []
  }
 ],
 "metadata": {
  "kernelspec": {
   "display_name": "Python 3",
   "language": "python",
   "name": "python3"
  },
  "language_info": {
   "codemirror_mode": {
    "name": "ipython",
    "version": 3
   },
   "file_extension": ".py",
   "mimetype": "text/x-python",
   "name": "python",
   "nbconvert_exporter": "python",
   "pygments_lexer": "ipython3",
   "version": "3.7.1"
  }
 },
 "nbformat": 4,
 "nbformat_minor": 2
}
