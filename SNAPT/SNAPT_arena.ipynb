{
 "cells": [
  {
   "cell_type": "markdown",
   "metadata": {},
   "source": [
    "This file contains the methods to test the different trained networks against each other"
   ]
  },
  {
   "cell_type": "code",
   "execution_count": 39,
   "metadata": {},
   "outputs": [
    {
     "data": {
      "image/png": "[encoded data removed]",
      "text/plain": [
       "<Figure size 432x288 with 1 Axes>"
      ]
     },
     "metadata": {},
     "output_type": "display_data"
    },
    {
     "name": "stdout",
     "output_type": "stream",
     "text": [
      "20 20 0\n"
     ]
    }
   ],
   "source": [
    "# Initialize game\n",
    "from SNAPT_Game import SNAPT_Game as SNAPT\n",
    "\n",
    "weights = [[1, 1, 0],\n",
    "         [1, 1, 1],\n",
    "         [0, 1, 1]]\n",
    "\n",
    "m_atts = [[1, 0, 0.5, 0, 0],\n",
    "          [0, 0, 0.5, 0, 0],\n",
    "          [0, 1, 0.5, 0, 0]]\n",
    "\n",
    "p1_atts = [1, 1, 1, 20, 1]\n",
    "p2_atts = [1, 1, 1, 20, 1]\n",
    "\n",
    "g = SNAPT(weights, m_atts, p1_atts, p2_atts)\n",
    "board, player = g.getInitBoard()\n",
    "g.render(board, player)"
   ]
  },
  {
   "cell_type": "markdown",
   "metadata": {},
   "source": [
    "Get neural network inputs for attacker and defender"
   ]
  },
  {
   "cell_type": "code",
   "execution_count": 40,
   "metadata": {},
   "outputs": [],
   "source": [
    "#TODO make more clear\n",
    "attacker_inputs = len(g.get_attack_vector(board))\n",
    "defender_inputs = len(g.get_defend_vector(board))"
   ]
  },
  {
   "cell_type": "markdown",
   "metadata": {},
   "source": [
    "File names in ./checkpoint"
   ]
  },
  {
   "cell_type": "code",
   "execution_count": 41,
   "metadata": {},
   "outputs": [],
   "source": [
    "filenames = ['a2c_att_pq_3600.pth.tar',                'a2c_def_pq_3600.pth.tar',\n",
    "             'az_es_att_checkpoint.pth.tar',           'az_es_def_checkpoint.pth.tar',\n",
    "             'az_grad_att_checkpoint.pth.tar',         'az_grad_def_checkpoint.pth.tar',\n",
    "             'cem_att_pq_3600.pth.tar',                'cem_def_pq_3600.pth.tar',\n",
    "             'oneone_att_pq_3600.pth.tar',             'oneone_def_pq_3600.pth.tar']\n",
    "\n",
    "\n",
    "names = ['a2c', 'az_es', 'az_grad', 'cem', 'oneone', 'random']"
   ]
  },
  {
   "cell_type": "markdown",
   "metadata": {},
   "source": [
    "Set up randomized attack agent which returns each action with uniform probability"
   ]
  },
  {
   "cell_type": "code",
   "execution_count": 42,
   "metadata": {},
   "outputs": [],
   "source": [
    "class RandomAttackAgent():\n",
    "    def __init__(self, g):\n",
    "        self.g = g\n",
    "        \n",
    "    def forward(self, board):\n",
    "        return torch.FloatTensor([1] * self.g.size), 0\n",
    "    \n",
    "class RandomDefenseAgent():\n",
    "    def __init__(self, g):\n",
    "        self.g = g\n",
    "        \n",
    "    def forward(self, board):\n",
    "        return torch.FloatTensor([1] * (self.g.size*2)), 0"
   ]
  },
  {
   "cell_type": "markdown",
   "metadata": {},
   "source": [
    "load all trained attacker networks"
   ]
  },
  {
   "cell_type": "code",
   "execution_count": 46,
   "metadata": {},
   "outputs": [],
   "source": [
    "import os\n",
    "from SNAPT_net import SNAPT_AC\n",
    "import torch\n",
    "from SNAPT_es import *\n",
    "folder = 'checkpoint'\n",
    "\n",
    "\n",
    "attacker_filenames = {\n",
    "    'a2c' : 'a2c_att_pq_3600.pth.tar', \n",
    "    'az_es' : 'az_es_att_checkpoint.pth.tar', \n",
    "    'az_grad' : 'az_grad_att_checkpoint.pth.tar', \n",
    "    'cem' : 'cem_att_pq_3600.pth.tar', \n",
    "    'oneone' : 'oneone_att_pq_3600.pth.tar', \n",
    "}\n",
    "\n",
    "\n",
    "attackers = {}\n",
    "\n",
    "for attacker in attacker_filenames.keys():\n",
    "    fname = attacker_filenames[attacker]\n",
    "    loc = os.path.join(folder, fname)\n",
    "    \n",
    "    attackers[attacker] = SNAPT_AC(attacker_inputs, g.size, 64)\n",
    "    checkpoint = torch.load(loc)\n",
    "    if 'az' in fname:\n",
    "        attackers[attacker].load_state_dict(checkpoint['state_dict'])\n",
    "        \n",
    "    else:\n",
    "        attackers[attacker].load_state_dict(checkpoint)\n",
    "\n",
    "attackers['random'] = RandomAttackAgent(g)"
   ]
  },
  {
   "cell_type": "markdown",
   "metadata": {},
   "source": [
    "Load all trained defender networks"
   ]
  },
  {
   "cell_type": "code",
   "execution_count": 47,
   "metadata": {},
   "outputs": [],
   "source": [
    "defender_filenames = {\n",
    "    'a2c' : 'a2c_def_pq_3600.pth.tar', \n",
    "    'az_es' : 'az_es_def_checkpoint.pth.tar', \n",
    "    'az_grad' : 'az_grad_def_checkpoint.pth.tar', \n",
    "    'cem' : 'cem_def_pq_3600.pth.tar', \n",
    "    'oneone' : 'oneone_def_pq_3600.pth.tar', \n",
    "}\n",
    "\n",
    "\n",
    "defenders = {}\n",
    "\n",
    "for defender in defender_filenames.keys():\n",
    "    fname = defender_filenames[defender]\n",
    "    loc = os.path.join(folder, fname)\n",
    "    \n",
    "    defenders[defender] = SNAPT_AC(defender_inputs, 2 * g.size, 64)\n",
    "    checkpoint = torch.load(loc)\n",
    "    \n",
    "    if 'az' in fname:\n",
    "        defenders[defender].load_state_dict(checkpoint['state_dict'])\n",
    "        \n",
    "    else:\n",
    "        defenders[defender].load_state_dict(checkpoint)\n",
    "\n",
    "defenders['random'] = RandomDefenseAgent(g)"
   ]
  },
  {
   "cell_type": "code",
   "execution_count": 48,
   "metadata": {},
   "outputs": [],
   "source": [
    "# total number of games for each pairing to play, original was 100\n",
    "TOTAL_GAMES = 1"
   ]
  },
  {
   "cell_type": "markdown",
   "metadata": {},
   "source": [
    "Play matches using only neural networks"
   ]
  },
  {
   "cell_type": "code",
   "execution_count": 49,
   "metadata": {},
   "outputs": [
    {
     "name": "stdout",
     "output_type": "stream",
     "text": [
      "a2c\n",
      "1, 0, 1, 0, 1, 1, \n",
      "az_es\n",
      "1, 1, 0, 0, 0, 0, \n",
      "az_grad\n",
      "1, 0, 0, 0, 0, 0, \n",
      "cem\n",
      "1, 0, 0, 0, 1, 1, \n",
      "oneone\n",
      "1, 0, 0, 0, 1, 0, \n",
      "random\n",
      "0, 0, 0, 0, 1, 1, \n"
     ]
    }
   ],
   "source": [
    "wins = []\n",
    "count = 0\n",
    "for attacker_name in attackers.keys():\n",
    "    attacker = attackers[attacker_name]\n",
    "    print(attacker_name)\n",
    "    count += 1\n",
    "    attacker_wins = []\n",
    "    for defender_name in defenders.keys():\n",
    "        defender = defenders[defender_name]\n",
    "        win_count = attacker_vs_defender(g, attacker, defender, TOTAL_GAMES, temp = 1)\n",
    "        attacker_wins.append(win_count)\n",
    "        print(win_count, end = ', ')\n",
    "    print()\n",
    "    wins.append(attacker_wins)\n"
   ]
  },
  {
   "cell_type": "markdown",
   "metadata": {},
   "source": [
    "Store win counts as csv"
   ]
  },
  {
   "cell_type": "code",
   "execution_count": 50,
   "metadata": {},
   "outputs": [
    {
     "data": {
      "text/html": [
       "<div>\n",
       "<style scoped>\n",
       "    .dataframe tbody tr th:only-of-type {\n",
       "        vertical-align: middle;\n",
       "    }\n",
       "\n",
       "    .dataframe tbody tr th {\n",
       "        vertical-align: top;\n",
       "    }\n",
       "\n",
       "    .dataframe thead th {\n",
       "        text-align: right;\n",
       "    }\n",
       "</style>\n",
       "<table border=\"1\" class=\"dataframe\">\n",
       "  <thead>\n",
       "    <tr style=\"text-align: right;\">\n",
       "      <th></th>\n",
       "      <th>a2c</th>\n",
       "      <th>az_es</th>\n",
       "      <th>az_grad</th>\n",
       "      <th>cem</th>\n",
       "      <th>oneone</th>\n",
       "      <th>random</th>\n",
       "    </tr>\n",
       "  </thead>\n",
       "  <tbody>\n",
       "    <tr>\n",
       "      <th>a2c</th>\n",
       "      <td>1</td>\n",
       "      <td>1</td>\n",
       "      <td>1</td>\n",
       "      <td>1</td>\n",
       "      <td>1</td>\n",
       "      <td>0</td>\n",
       "    </tr>\n",
       "    <tr>\n",
       "      <th>az_es</th>\n",
       "      <td>0</td>\n",
       "      <td>1</td>\n",
       "      <td>0</td>\n",
       "      <td>0</td>\n",
       "      <td>0</td>\n",
       "      <td>0</td>\n",
       "    </tr>\n",
       "    <tr>\n",
       "      <th>az_grad</th>\n",
       "      <td>1</td>\n",
       "      <td>0</td>\n",
       "      <td>0</td>\n",
       "      <td>0</td>\n",
       "      <td>0</td>\n",
       "      <td>0</td>\n",
       "    </tr>\n",
       "    <tr>\n",
       "      <th>cem</th>\n",
       "      <td>0</td>\n",
       "      <td>0</td>\n",
       "      <td>0</td>\n",
       "      <td>0</td>\n",
       "      <td>0</td>\n",
       "      <td>0</td>\n",
       "    </tr>\n",
       "    <tr>\n",
       "      <th>oneone</th>\n",
       "      <td>1</td>\n",
       "      <td>0</td>\n",
       "      <td>0</td>\n",
       "      <td>1</td>\n",
       "      <td>1</td>\n",
       "      <td>1</td>\n",
       "    </tr>\n",
       "    <tr>\n",
       "      <th>random</th>\n",
       "      <td>1</td>\n",
       "      <td>0</td>\n",
       "      <td>0</td>\n",
       "      <td>1</td>\n",
       "      <td>0</td>\n",
       "      <td>1</td>\n",
       "    </tr>\n",
       "  </tbody>\n",
       "</table>\n",
       "</div>"
      ],
      "text/plain": [
       "         a2c  az_es  az_grad  cem  oneone  random\n",
       "a2c        1      1        1    1       1       0\n",
       "az_es      0      1        0    0       0       0\n",
       "az_grad    1      0        0    0       0       0\n",
       "cem        0      0        0    0       0       0\n",
       "oneone     1      0        0    1       1       1\n",
       "random     1      0        0    1       0       1"
      ]
     },
     "execution_count": 50,
     "metadata": {},
     "output_type": "execute_result"
    }
   ],
   "source": [
    "import pandas as pd\n",
    "\n",
    "nnet_wins = pd.DataFrame(wins, columns = names, index = names)\n",
    "\n",
    "nnet_wins = nnet_wins.transpose()\n",
    "\n",
    "nnet_wins.to_csv(r'nnet_wins.csv')\n",
    "\n",
    "nnet_wins"
   ]
  },
  {
   "cell_type": "markdown",
   "metadata": {},
   "source": [
    "Play matches using Monte Carlo tree search\n",
    "\n"
   ]
  },
  {
   "cell_type": "code",
   "execution_count": null,
   "metadata": {},
   "outputs": [
    {
     "name": "stdout",
     "output_type": "stream",
     "text": [
      "a2c\n",
      "1, 0, 0, 0, 0, 0, \n",
      "az_es\n",
      "0, 1, 0, 0, "
     ]
    }
   ],
   "source": [
    "from SNAPT_AZ import *\n",
    "from SNAPT_net import NNetWrapper\n",
    "\n",
    "args = dotdict({\n",
    "    'numEps': 5,        # Number of complete self-play games to simulate during a new iteration.\n",
    "    'numMCTSSims': 20,  # Number of games moves for MCTS to simulate.\n",
    "    'cpuct': 1,         # hyperparameter for MCTS\n",
    "    'batch_size' : 8,  # number of samples to take for AZ-ES, N in paper\n",
    "    'elite_size' : 4,  # elite size for AZ-ES, K in paper\n",
    "})\n",
    "\n",
    "wins = []\n",
    "count = 0\n",
    "\n",
    "for attacker_name in attackers.keys():\n",
    "    attacker = attackers[attacker_name]\n",
    "    print(attacker_name)\n",
    "    count += 1\n",
    "    att_wins = []\n",
    "    for defender_name in defenders.keys():\n",
    "        defender = defenders[defender_name]\n",
    "        nnet_wrapper = NNetWrapper(g)\n",
    "        \n",
    "        if type(attacker) != type(RandomAttackAgent(g)):\n",
    "            nnet_wrapper.att_nnet = attacker\n",
    "            \n",
    "        if type(defender) != type(RandomDefenseAgent(g)):\n",
    "            nnet_wrapper.def_nnet = defender\n",
    "        \n",
    "        mcts = MCTS(g, nnet_wrapper, args)\n",
    "        AZ = AlphaZero(g, nnet_wrapper, mcts, args)\n",
    "        win_count = 0\n",
    "        \n",
    "        # Execute given amount of AlphaZero self play games\n",
    "        # does not train\n",
    "        for _ in range(TOTAL_GAMES):\n",
    "            if AZ.execute_episode(render = False)[-1] == 1:\n",
    "                win_count += 1\n",
    "                \n",
    "        print(win_count, end = ', ')\n",
    "        att_wins.append(win_count)\n",
    "        \n",
    "    print()\n",
    "    wins.append(att_wins)"
   ]
  },
  {
   "cell_type": "code",
   "execution_count": 37,
   "metadata": {},
   "outputs": [
    {
     "data": {
      "text/html": [
       "<div>\n",
       "<style scoped>\n",
       "    .dataframe tbody tr th:only-of-type {\n",
       "        vertical-align: middle;\n",
       "    }\n",
       "\n",
       "    .dataframe tbody tr th {\n",
       "        vertical-align: top;\n",
       "    }\n",
       "\n",
       "    .dataframe thead th {\n",
       "        text-align: right;\n",
       "    }\n",
       "</style>\n",
       "<table border=\"1\" class=\"dataframe\">\n",
       "  <thead>\n",
       "    <tr style=\"text-align: right;\">\n",
       "      <th></th>\n",
       "      <th>a2c</th>\n",
       "      <th>az_es</th>\n",
       "      <th>az_grad</th>\n",
       "      <th>cem</th>\n",
       "      <th>oneone</th>\n",
       "      <th>random</th>\n",
       "    </tr>\n",
       "  </thead>\n",
       "  <tbody>\n",
       "    <tr>\n",
       "      <th>a2c</th>\n",
       "      <td>0</td>\n",
       "      <td>0</td>\n",
       "      <td>0</td>\n",
       "      <td>0</td>\n",
       "      <td>0</td>\n",
       "      <td>1</td>\n",
       "    </tr>\n",
       "    <tr>\n",
       "      <th>az_es</th>\n",
       "      <td>1</td>\n",
       "      <td>0</td>\n",
       "      <td>0</td>\n",
       "      <td>1</td>\n",
       "      <td>0</td>\n",
       "      <td>0</td>\n",
       "    </tr>\n",
       "    <tr>\n",
       "      <th>az_grad</th>\n",
       "      <td>0</td>\n",
       "      <td>0</td>\n",
       "      <td>1</td>\n",
       "      <td>0</td>\n",
       "      <td>0</td>\n",
       "      <td>1</td>\n",
       "    </tr>\n",
       "    <tr>\n",
       "      <th>cem</th>\n",
       "      <td>0</td>\n",
       "      <td>0</td>\n",
       "      <td>1</td>\n",
       "      <td>0</td>\n",
       "      <td>0</td>\n",
       "      <td>1</td>\n",
       "    </tr>\n",
       "    <tr>\n",
       "      <th>oneone</th>\n",
       "      <td>0</td>\n",
       "      <td>1</td>\n",
       "      <td>1</td>\n",
       "      <td>0</td>\n",
       "      <td>0</td>\n",
       "      <td>0</td>\n",
       "    </tr>\n",
       "    <tr>\n",
       "      <th>random</th>\n",
       "      <td>0</td>\n",
       "      <td>0</td>\n",
       "      <td>1</td>\n",
       "      <td>1</td>\n",
       "      <td>0</td>\n",
       "      <td>0</td>\n",
       "    </tr>\n",
       "  </tbody>\n",
       "</table>\n",
       "</div>"
      ],
      "text/plain": [
       "         a2c  az_es  az_grad  cem  oneone  random\n",
       "a2c        0      0        0    0       0       1\n",
       "az_es      1      0        0    1       0       0\n",
       "az_grad    0      0        1    0       0       1\n",
       "cem        0      0        1    0       0       1\n",
       "oneone     0      1        1    0       0       0\n",
       "random     0      0        1    1       0       0"
      ]
     },
     "execution_count": 37,
     "metadata": {},
     "output_type": "execute_result"
    }
   ],
   "source": [
    "mcts_wins = pd.DataFrame(wins, columns = names, index = names)\n",
    "\n",
    "mcts_wins = mcts_wins.transpose()\n",
    "\n",
    "mcts_wins.to_csv(r'mcts_wins.csv')\n",
    "\n",
    "mcts_wins"
   ]
  },
  {
   "cell_type": "code",
   "execution_count": null,
   "metadata": {},
   "outputs": [],
   "source": []
  }
 ],
 "metadata": {
  "kernelspec": {
   "display_name": "Python 3",
   "language": "python",
   "name": "python3"
  },
  "language_info": {
   "codemirror_mode": {
    "name": "ipython",
    "version": 3
   },
   "file_extension": ".py",
   "mimetype": "text/x-python",
   "name": "python",
   "nbconvert_exporter": "python",
   "pygments_lexer": "ipython3",
   "version": "3.7.1"
  }
 },
 "nbformat": 4,
 "nbformat_minor": 2
}
